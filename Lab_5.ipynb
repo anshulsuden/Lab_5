{
  "nbformat": 4,
  "nbformat_minor": 0,
  "metadata": {
    "colab": {
      "name": "Lab_5.ipynb",
      "provenance": [],
      "collapsed_sections": []
    },
    "kernelspec": {
      "name": "python3",
      "display_name": "Python 3"
    }
  },
  "cells": [
    {
      "cell_type": "code",
      "metadata": {
        "id": "X3uynni1FIos",
        "colab_type": "code",
        "colab": {
          "base_uri": "https://localhost:8080/",
          "height": 34
        },
        "outputId": "222ad512-52c1-48bd-8c38-c61124ef48ee"
      },
      "source": [
        "#Task 1\n",
        "import math\n",
        "class Point:\n",
        "\tdef __init__(self,x=0,y=0):\n",
        "\t\tself.x=x\n",
        "\t\tself.y=y\n",
        "\n",
        "\tdef distance_between_points(self,other):\n",
        "\t\treturn math.sqrt(((other.x-self.x)**2)-((other.y-self.y)**2)) \n",
        "\n",
        "point1=Point(10,50)\n",
        "point2=Point(40,60)\n",
        "#point1.distance_between_points(point2)\n",
        "print('The distance between two points are::',point1.distance_between_points(point2))"
      ],
      "execution_count": 1,
      "outputs": [
        {
          "output_type": "stream",
          "text": [
            "The distance between two points are:: 28.284271247461902\n"
          ],
          "name": "stdout"
        }
      ]
    }
  ]
}