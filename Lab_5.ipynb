{
  "nbformat": 4,
  "nbformat_minor": 0,
  "metadata": {
    "colab": {
      "name": "Lab_5.ipynb",
      "provenance": [],
      "collapsed_sections": []
    },
    "kernelspec": {
      "name": "python3",
      "display_name": "Python 3"
    }
  },
  "cells": [
    {
      "cell_type": "code",
      "metadata": {
        "id": "X3uynni1FIos",
        "colab_type": "code",
        "outputId": "6cc96c84-4948-46ec-e62e-05ae4c9cee94",
        "colab": {
          "base_uri": "https://localhost:8080/",
          "height": 34
        }
      },
      "source": [
        "#Task 1\n",
        "import math\n",
        "class Point:\n",
        "\tdef __init__(self,x=0,y=0):\n",
        "\t\tself.x=x\n",
        "\t\tself.y=y\n",
        "\n",
        "\tdef distance_between_points(self,other):\n",
        "\t\treturn math.sqrt(((other.x-self.x)**2)-((other.y-self.y)**2)) \n",
        "\n",
        "point1=Point(10,50)\n",
        "point2=Point(40,60)\n",
        "#point1.distance_between_points(point2)\n",
        "print('The distance between two points are::',point1.distance_between_points(point2))"
      ],
      "execution_count": 0,
      "outputs": [
        {
          "output_type": "stream",
          "text": [
            "The distance between two points are:: 28.284271247461902\n"
          ],
          "name": "stdout"
        }
      ]
    },
    {
      "cell_type": "code",
      "metadata": {
        "id": "uJVwoRBnGxnV",
        "colab_type": "code",
        "outputId": "bcde1292-1602-4254-81d6-c9df0eab2f6e",
        "colab": {
          "base_uri": "https://localhost:8080/",
          "height": 84
        }
      },
      "source": [
        "#TAsk 2\n",
        "class Rectangle(Point):\n",
        "\tdef __init__(self,width=0,height=0,corner=(0,0)):\n",
        "\t\tself.width=width\n",
        "\t\tself.height=height\n",
        "\t\tself.corner=Point(corner[0],corner[1])\n",
        "\n",
        "\tdef __str__(self):\n",
        "\t\treturn 'WIDTH::'+str(self.width)+' HEIGHT::'+str(self.height)+' CORNER X::'+str(self.corner.x)+' Y::'+str(self.corner.y)\n",
        "\n",
        "\n",
        "\tdef all_corner(self):\n",
        "\t\tcorner1=(self.corner.x,self.corner.y)\n",
        "\t\tcornerx=(self.corner.x+self.height,self.corner.y)\n",
        "\t\tcornery=(self.corner.x,self.corner.y+self.width)\n",
        "\t\tcorner2=(cornerx[0],cornerx[1]+self.width)\n",
        "\t\treturn (corner1,cornerx,cornery,corner2)\n",
        "\n",
        "\tdef find_center(self):\n",
        "\t\tcorners=self.all_corner()\n",
        "\t\tcornerx=corners[1]\n",
        "\t\tcornery=corners[2]\n",
        "\t\treturn ((cornerx[0]+cornery[0])/2,(cornerx[1]+cornery[1])/2)\n",
        "\n",
        "\tdef move_rectangle(self,dx,dy):\n",
        "\t\tcorners=self.all_corner()\n",
        "\t\tcornerlist=[]\n",
        "\t\tfor c in corners:\n",
        "\t\t\tcornerlist.append((c[0]+dx,c[1]+dy))\n",
        "\t\treturn cornerlist\n",
        "\n",
        "rec=Rectangle(10,20,(10,20))\n",
        "rec2=rec\n",
        "\n",
        "print('The Coordinates the rectangle are ::',rec.all_corner())\n",
        "\n",
        "print('The Center Of the rectangle is ::',rec.find_center())\n",
        "\n",
        "\n",
        "print('The Modified Cordinates Of the rectangle is ::',rec.move_rectangle(10,10))\n",
        "\n",
        "\n",
        "print('The Moved Cordinates Of the rectangle is ::',rec2.move_rectangle(20,20))"
      ],
      "execution_count": 0,
      "outputs": [
        {
          "output_type": "stream",
          "text": [
            "The Coordinates the rectangle are :: ((10, 20), (30, 20), (10, 30), (30, 30))\n",
            "The Center Of the rectangle is :: (20.0, 25.0)\n",
            "The Modified Cordinates Of the rectangle is :: [(20, 30), (40, 30), (20, 40), (40, 40)]\n",
            "The Moved Cordinates Of the rectangle is :: [(30, 40), (50, 40), (30, 50), (50, 50)]\n"
          ],
          "name": "stdout"
        }
      ]
    },
    {
      "cell_type": "code",
      "metadata": {
        "id": "Y8Jo0qQBWAJD",
        "colab_type": "code",
        "colab": {
          "base_uri": "https://localhost:8080/",
          "height": 101
        },
        "outputId": "9823ec72-7c1e-4ff0-c3a7-1ff0d32a1dd6"
      },
      "source": [
        "#Homework Question 2\n",
        "class IPv4:\n",
        "    def __init__(self,ip):\n",
        "        self.ip_list=[]\n",
        "        self.bip_list=[]\n",
        "        self.mask=None\n",
        "        self.bnetwork=''\n",
        "        self.network_list=[]\n",
        "        try:\n",
        "            temp_list=ip.split('.')\n",
        "            temp_list[3],mask=temp_list[3].split('/')[0],temp_list[3].split('/')[1]\n",
        "            for val in temp_list:\n",
        "                if(int(val)>254):\n",
        "                    raise\n",
        "                if int(mask)>30:\n",
        "                    raise\n",
        "        except:\n",
        "            print ('Invalid input provided.Please Provide proper Ip address and mask')\n",
        "        else:\n",
        "            self.ip_list=temp_list\n",
        "            self.mask=mask\n",
        "    def getAddress(self):\n",
        "        return self.ip_list\n",
        "\n",
        "\n",
        "    def binaryToDecimal(binary): \n",
        "      \n",
        "        binary1 = binary \n",
        "        decimal, i, n = 0, 0, 0\n",
        "        while(binary != 0): \n",
        "            dec = binary % 10\n",
        "            decimal = decimal + dec * pow(2, i) \n",
        "            binary = binary//10\n",
        "            i += 1\n",
        "        return decimal\n",
        "    \n",
        "    def getMask(self):\n",
        "        for i in range(32):\n",
        "            if i<int(self.mask):\n",
        "                self.bnetwork+='1'\n",
        "            else:\n",
        "                self.bnetwork+='0'\n",
        "        for v in range(0,32,8):\n",
        "            self.network_list.append(IPv4.binaryToDecimal(int(self.bnetwork[v:v+8])))\n",
        "        return self.network_list\n",
        "\n",
        "    def getNetwork(self):\n",
        "        temp=[]\n",
        "        tempmask=self.getMask()\n",
        "        for i in range(4) :\n",
        "            temp.append((int(self.ip_list[i])) & (int(tempmask[i])))\n",
        "        return temp\n",
        "    def __str__(self):\n",
        "        return str(self.ip_list)\n",
        "\n",
        "ip=input('enter ip add in this format (xx.xx.xx.xx/xx)')\n",
        "ip1=IPv4(ip)\n",
        "print('list representing the address::',ip1.getAddress())\n",
        "print('The Mask address of Ip::',ip1.getMask())\n",
        "print('The Network address of Ip::',ip1.getNetwork())\n",
        "print(ip1)\n"
      ],
      "execution_count": 51,
      "outputs": [
        {
          "output_type": "stream",
          "text": [
            "enter ip add in this format (xx.xx.xx.xx/xx)10.20.12.12/12\n",
            "list representing the address:: ['10', '20', '12', '12']\n",
            "The Mask address of Ip:: [255, 240, 0, 0]\n",
            "The Network address of Ip:: [10, 16, 0, 0]\n",
            "['10', '20', '12', '12']\n"
          ],
          "name": "stdout"
        }
      ]
    }
  ]
}